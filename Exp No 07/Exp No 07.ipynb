{
 "cells": [
  {
   "cell_type": "code",
   "execution_count": 1,
   "id": "b3a9641b-9707-486e-8392-bd8999b54ea1",
   "metadata": {},
   "outputs": [
    {
     "data": {
      "text/plain": [
       "'AIM :- Write a Program to map two lists into a dictionary'"
      ]
     },
     "execution_count": 1,
     "metadata": {},
     "output_type": "execute_result"
    }
   ],
   "source": [
    "\"\"\"AIM :- Write a Program to map two lists into a dictionary\"\"\""
   ]
  },
  {
   "cell_type": "code",
   "execution_count": 2,
   "id": "c1357f3c-d2c5-4ead-ae0b-a62c240df90c",
   "metadata": {},
   "outputs": [],
   "source": [
    "list1 = list()\n",
    "list2 = list()"
   ]
  },
  {
   "cell_type": "code",
   "execution_count": 3,
   "id": "00ee7b3c-4979-4fbb-8b52-f43296c05097",
   "metadata": {},
   "outputs": [
    {
     "name": "stdin",
     "output_type": "stream",
     "text": [
      "Enter the elements for list1 with space between each element:  1 2 3 4 5\n",
      "Enter the elements for list2 with space between each element:  pranav prathamesh shantanu devang\n"
     ]
    },
    {
     "name": "stdout",
     "output_type": "stream",
     "text": [
      "The count of elements in both the lists are not equal. Please try again.\n"
     ]
    },
    {
     "name": "stdin",
     "output_type": "stream",
     "text": [
      "Enter the elements for list1 with space between each element:  1 2 3 4 5\n",
      "Enter the elements for list2 with space between each element:  pranav prathamesh shantanu devang sumit\n"
     ]
    }
   ],
   "source": [
    "while True:\n",
    "    list1 = input(\"Enter the elements for list1 with space between each element: \").split()\n",
    "    list2 = input(\"Enter the elements for list2 with space between each element: \").split()\n",
    "\n",
    "    if len(list1) != len(list2):\n",
    "        print(\"The count of elements in both the lists are not equal. Please try again.\")\n",
    "    else:\n",
    "        break"
   ]
  },
  {
   "cell_type": "code",
   "execution_count": 4,
   "id": "bf8cfd97-e2e8-4164-bd3f-31f18d7cb5fb",
   "metadata": {},
   "outputs": [
    {
     "name": "stdout",
     "output_type": "stream",
     "text": [
      "{'1': 'pranav', '2': 'prathamesh', '3': 'shantanu', '4': 'devang', '5': 'sumit'}\n"
     ]
    }
   ],
   "source": [
    "dict1 = {}\n",
    "\n",
    "for i in range(len(list1)):\n",
    "    dict1[list1[i]] = list2[i]\n",
    "\n",
    "print(dict1)"
   ]
  }
 ],
 "metadata": {
  "kernelspec": {
   "display_name": "Python 3 (ipykernel)",
   "language": "python",
   "name": "python3"
  },
  "language_info": {
   "codemirror_mode": {
    "name": "ipython",
    "version": 3
   },
   "file_extension": ".py",
   "mimetype": "text/x-python",
   "name": "python",
   "nbconvert_exporter": "python",
   "pygments_lexer": "ipython3",
   "version": "3.10.12"
  }
 },
 "nbformat": 4,
 "nbformat_minor": 5
}
