{
 "cells": [
  {
   "cell_type": "markdown",
   "id": "aaa07c4e",
   "metadata": {},
   "source": [
    "AIM :- Compute Diameter , Circumference and Volume of Sphere Using Class"
   ]
  },
  {
   "cell_type": "code",
   "execution_count": 20,
   "id": "87889d9b",
   "metadata": {},
   "outputs": [],
   "source": [
    "class sphere:\n",
    "    def __init__(self):\n",
    "        radius = int(input(\"Enter the Radius of the Sphere :- \"))\n",
    "        self.radius = radius\n",
    "    \n",
    "    def diameter(self):\n",
    "        dia = self.radius * 2\n",
    "        print(f\"Diameter of the sphere is {dia} meters\")\n",
    "        \n",
    "    def circumference(self):\n",
    "        circum = 2*3.1412*self.radius\n",
    "        print(f\"Circumference of the circle is {round(circum,3)} meters\")\n",
    "        \n",
    "    def volume(self):\n",
    "        vol = (4/3)*3.1412*(self.radius**3)\n",
    "        print(f\"Volume of the Sphere is {round(vol,3)} cubic meters\")"
   ]
  },
  {
   "cell_type": "code",
   "execution_count": 21,
   "id": "161c9098",
   "metadata": {},
   "outputs": [
    {
     "name": "stdout",
     "output_type": "stream",
     "text": [
      "Enter the Radius of the Sphere :- 56\n"
     ]
    }
   ],
   "source": [
    "s1 = sphere()"
   ]
  },
  {
   "cell_type": "code",
   "execution_count": 22,
   "id": "b333cb87",
   "metadata": {},
   "outputs": [
    {
     "name": "stdout",
     "output_type": "stream",
     "text": [
      "Diameter of the sphere is 112 meters\n",
      "Circumference of the circle is 351.814 meters\n",
      "Volume of the Sphere is 735526.639 cubic meters\n"
     ]
    }
   ],
   "source": [
    "s1.diameter()\n",
    "s1.circumference()\n",
    "s1.volume()"
   ]
  },
  {
   "cell_type": "code",
   "execution_count": null,
   "id": "4ab3f4d9",
   "metadata": {},
   "outputs": [],
   "source": []
  }
 ],
 "metadata": {
  "kernelspec": {
   "display_name": "Python 3 (ipykernel)",
   "language": "python",
   "name": "python3"
  },
  "language_info": {
   "codemirror_mode": {
    "name": "ipython",
    "version": 3
   },
   "file_extension": ".py",
   "mimetype": "text/x-python",
   "name": "python",
   "nbconvert_exporter": "python",
   "pygments_lexer": "ipython3",
   "version": "3.11.5"
  }
 },
 "nbformat": 4,
 "nbformat_minor": 5
}
