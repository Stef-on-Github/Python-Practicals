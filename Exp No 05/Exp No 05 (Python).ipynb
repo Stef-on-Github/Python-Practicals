{
 "cells": [
  {
   "cell_type": "code",
   "execution_count": 1,
   "id": "dc38e207-ffa7-46f9-bf72-f6c1936d16e7",
   "metadata": {},
   "outputs": [
    {
     "data": {
      "text/plain": [
       "'Program to count the occurence of each word in a given string sentence'"
      ]
     },
     "execution_count": 1,
     "metadata": {},
     "output_type": "execute_result"
    }
   ],
   "source": [
    "\"\"\"Program to count the occurence of each word in a given string sentence\"\"\""
   ]
  },
  {
   "cell_type": "code",
   "execution_count": 2,
   "id": "5a4bac93-2f56-4770-bd87-75186abdddfc",
   "metadata": {},
   "outputs": [
    {
     "data": {
      "text/plain": [
       "'Method 1 :- Considering the whole string and count the occurence of each word in the string'"
      ]
     },
     "execution_count": 2,
     "metadata": {},
     "output_type": "execute_result"
    }
   ],
   "source": [
    "\"\"\"Method 1 :- Considering the whole string and count the occurence of each word in the string\"\"\""
   ]
  },
  {
   "cell_type": "code",
   "execution_count": 3,
   "id": "311ec600-fcd9-45ac-a20f-a9087cc471c3",
   "metadata": {},
   "outputs": [
    {
     "name": "stdin",
     "output_type": "stream",
     "text": [
      "Enter the string sentence:-  the cat sat on the mat and then the cat jumped off the mat\n"
     ]
    }
   ],
   "source": [
    "sent1 = input(\"Enter the string sentence:- \")"
   ]
  },
  {
   "cell_type": "code",
   "execution_count": 4,
   "id": "8376c074-1511-4247-98d7-ca569f2e966a",
   "metadata": {},
   "outputs": [],
   "source": [
    "list1= sent1.split()"
   ]
  },
  {
   "cell_type": "code",
   "execution_count": 5,
   "id": "2433f874-0d67-41c2-a36c-ba2ebe667a3f",
   "metadata": {},
   "outputs": [
    {
     "name": "stdout",
     "output_type": "stream",
     "text": [
      "['the', 'cat', 'sat', 'on', 'the', 'mat', 'and', 'then', 'the', 'cat', 'jumped', 'off', 'the', 'mat']\n"
     ]
    }
   ],
   "source": [
    "print(list1)\n"
   ]
  },
  {
   "cell_type": "code",
   "execution_count": 6,
   "id": "98ac7132-8e40-428e-91c2-57f7588689fa",
   "metadata": {},
   "outputs": [],
   "source": [
    "dict1 = dict()"
   ]
  },
  {
   "cell_type": "code",
   "execution_count": 7,
   "id": "d94a5752-442c-49b9-b050-35a9daa31cce",
   "metadata": {},
   "outputs": [],
   "source": [
    "for i in list1:\n",
    "    if i not in dict1.keys():\n",
    "        dict1[i] = 1\n",
    "    else:\n",
    "        dict1[i] = int(dict1[i]) + 1\n",
    "    "
   ]
  },
  {
   "cell_type": "code",
   "execution_count": 8,
   "id": "546d0336-3ffa-4519-82da-fa0535a7cd6b",
   "metadata": {},
   "outputs": [
    {
     "name": "stdout",
     "output_type": "stream",
     "text": [
      "{'the': 4, 'cat': 2, 'sat': 1, 'on': 1, 'mat': 2, 'and': 1, 'then': 1, 'jumped': 1, 'off': 1}\n"
     ]
    }
   ],
   "source": [
    "print(dict1)"
   ]
  },
  {
   "cell_type": "code",
   "execution_count": 9,
   "id": "9f039b19-6d2a-46a2-a621-316d00f77f95",
   "metadata": {},
   "outputs": [
    {
     "data": {
      "text/plain": [
       "'Method 2 :- Considering the whole string and counting the occurence of the word as per user choice'"
      ]
     },
     "execution_count": 9,
     "metadata": {},
     "output_type": "execute_result"
    }
   ],
   "source": [
    "\"\"\"Method 2 :- Considering the whole string and counting the occurence of the word as per user choice\"\"\""
   ]
  },
  {
   "cell_type": "code",
   "execution_count": 10,
   "id": "5e71bddd-7fd7-4ca7-a5f0-afbcb7737a6e",
   "metadata": {},
   "outputs": [
    {
     "name": "stdin",
     "output_type": "stream",
     "text": [
      "Enter the string sentence:-  the cat sat on the mat and then the cat jumped off the mat\n",
      "Enter the word from the string sentence to check its occurence:-  cat\n"
     ]
    }
   ],
   "source": [
    "sent2 = input(\"Enter the string sentence:- \")\n",
    "word1 = input(\"Enter the word from the string sentence to check its occurence:- \")"
   ]
  },
  {
   "cell_type": "code",
   "execution_count": 11,
   "id": "927b20ce-953c-4458-9c7d-57ee6e851eff",
   "metadata": {},
   "outputs": [],
   "source": [
    "list2 = sent2.split()"
   ]
  },
  {
   "cell_type": "code",
   "execution_count": 12,
   "id": "37ca4afb-a7d0-406f-abc0-4883042ddc3f",
   "metadata": {},
   "outputs": [
    {
     "name": "stdout",
     "output_type": "stream",
     "text": [
      "['the', 'cat', 'sat', 'on', 'the', 'mat', 'and', 'then', 'the', 'cat', 'jumped', 'off', 'the', 'mat']\n"
     ]
    }
   ],
   "source": [
    "print(list2)"
   ]
  },
  {
   "cell_type": "code",
   "execution_count": 13,
   "id": "8f679ae1-8d34-48cd-81de-402bdef69a77",
   "metadata": {},
   "outputs": [],
   "source": [
    "count = 0\n",
    "for i in list2:\n",
    "    if (i == word1):\n",
    "        count = count + 1"
   ]
  },
  {
   "cell_type": "code",
   "execution_count": 14,
   "id": "c3552d7f-630c-4988-a5e1-4727b6ee7777",
   "metadata": {},
   "outputs": [
    {
     "name": "stdout",
     "output_type": "stream",
     "text": [
      "The Occurence of the word cat is 2\n"
     ]
    }
   ],
   "source": [
    "print(\"The Occurence of the word\",word1,\"is\",count)"
   ]
  }
 ],
 "metadata": {
  "kernelspec": {
   "display_name": "Python 3 (ipykernel)",
   "language": "python",
   "name": "python3"
  },
  "language_info": {
   "codemirror_mode": {
    "name": "ipython",
    "version": 3
   },
   "file_extension": ".py",
   "mimetype": "text/x-python",
   "name": "python",
   "nbconvert_exporter": "python",
   "pygments_lexer": "ipython3",
   "version": "3.10.12"
  }
 },
 "nbformat": 4,
 "nbformat_minor": 5
}
