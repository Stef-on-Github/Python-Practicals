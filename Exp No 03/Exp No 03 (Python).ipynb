{
 "cells": [
  {
   "cell_type": "code",
   "execution_count": 1,
   "id": "7063a5cb-34cd-4b3e-9b28-9e03bafec068",
   "metadata": {},
   "outputs": [],
   "source": [
    "a = [1,2,3,4]\n",
    "b = [3,4,5,6]\n",
    "c = list()\n",
    "d = list()"
   ]
  },
  {
   "cell_type": "code",
   "execution_count": 2,
   "id": "6328935f-77bd-4bd7-b378-a5f4da8ee579",
   "metadata": {},
   "outputs": [
    {
     "name": "stdout",
     "output_type": "stream",
     "text": [
      "[3, 4]\n"
     ]
    }
   ],
   "source": [
    "#Method 01\n",
    "for i in range(0,len(a)):\n",
    "    for j in range(0,len(b)):\n",
    "        if a[i] == b[j]:\n",
    "            c.append(a[i])   \n",
    "print(c)"
   ]
  },
  {
   "cell_type": "code",
   "execution_count": 3,
   "id": "aecbfd91-a5b1-4def-919c-d755adab76c4",
   "metadata": {},
   "outputs": [
    {
     "name": "stdout",
     "output_type": "stream",
     "text": [
      "[3, 4]\n"
     ]
    }
   ],
   "source": [
    "#Method 02 (Shortest Code)\n",
    "for i in a:\n",
    "    if i in b:\n",
    "            d.append(i) \n",
    "print(d)"
   ]
  },
  {
   "cell_type": "code",
   "execution_count": 4,
   "id": "5a28a7c9-915e-4d8b-8745-41217b099cce",
   "metadata": {},
   "outputs": [],
   "source": [
    "# Intersection of two lists\n",
    "list1 = list()\n",
    "list2 = list()\n",
    "intersection = list()"
   ]
  },
  {
   "cell_type": "code",
   "execution_count": 5,
   "id": "e53ce7ee-d195-475a-9656-ba1d2bc1904e",
   "metadata": {},
   "outputs": [
    {
     "name": "stdin",
     "output_type": "stream",
     "text": [
      "Enter the no.of elements:-  5\n",
      "Enter the element:-  5\n",
      "Enter the element:-  8\n",
      "Enter the element:-  6\n",
      "Enter the element:-  9\n",
      "Enter the element:-  2\n"
     ]
    }
   ],
   "source": [
    "# Taking Input for first list\n",
    "n = int(input(\"Enter the no.of elements:- \"))\n",
    "for i in range(0,n):\n",
    "    number = int(input(\"Enter the element:- \"))\n",
    "    list1.append(number)"
   ]
  },
  {
   "cell_type": "code",
   "execution_count": 6,
   "id": "ecdee69c-fcd4-41d6-b6d9-b449c0be04d5",
   "metadata": {},
   "outputs": [
    {
     "name": "stdin",
     "output_type": "stream",
     "text": [
      "Enter the no.of elements:-  5\n",
      "Enter the element:-  5\n",
      "Enter the element:-  8\n",
      "Enter the element:-  6\n",
      "Enter the element:-  4\n",
      "Enter the element:-  3\n"
     ]
    }
   ],
   "source": [
    "# Taking Input for Second list\n",
    "n = int(input(\"Enter the no.of elements:- \"))\n",
    "for i in range(0,n):\n",
    "    number = int(input(\"Enter the element:- \"))\n",
    "    list2.append(number)"
   ]
  },
  {
   "cell_type": "code",
   "execution_count": 7,
   "id": "7e017abc-8695-4926-b97d-d9d545dad01e",
   "metadata": {},
   "outputs": [
    {
     "name": "stdout",
     "output_type": "stream",
     "text": [
      "[5, 8, 6]\n"
     ]
    }
   ],
   "source": [
    "# Taking Intersection of first list and second list\n",
    "# Method 01 for Intersection of lists\n",
    "for i in list1:\n",
    "    if i in list2:\n",
    "            intersection.append(i)\n",
    "print(intersection)"
   ]
  },
  {
   "cell_type": "code",
   "execution_count": 8,
   "id": "eedb81fd-faec-48d0-b609-c110dda07a63",
   "metadata": {},
   "outputs": [
    {
     "name": "stdout",
     "output_type": "stream",
     "text": [
      "[8, 5, 6]\n"
     ]
    }
   ],
   "source": [
    "#Method 02 for Intersection of lists\n",
    "e = list(set(list1) & set(list2))\n",
    "print(e)"
   ]
  },
  {
   "cell_type": "code",
   "execution_count": 9,
   "id": "485d24d2-16b7-442b-bfaf-30658edc9790",
   "metadata": {},
   "outputs": [
    {
     "name": "stdout",
     "output_type": "stream",
     "text": [
      "{3}\n"
     ]
    }
   ],
   "source": [
    "#Method 03 for Intersection of lists\n",
    "f = [1,2,3,4]\n",
    "g = [3,4,5,6]\n",
    "h = [1,2,3,6]\n",
    "i = set(f).intersection(g,h)\n",
    "print(i)"
   ]
  },
  {
   "cell_type": "code",
   "execution_count": 10,
   "id": "5073f966-4417-427d-ac6c-2bb8b173043c",
   "metadata": {},
   "outputs": [
    {
     "name": "stdout",
     "output_type": "stream",
     "text": [
      "15\n"
     ]
    }
   ],
   "source": [
    "# lambda function named 'x' that takes one argument 'a' and performs as per the expression defined\n",
    "x = lambda a: a + 10\n",
    "print(x(5))"
   ]
  },
  {
   "cell_type": "code",
   "execution_count": 11,
   "id": "9ef2839b-57b0-4cda-8da4-dbb5ed2ae5de",
   "metadata": {},
   "outputs": [
    {
     "name": "stdout",
     "output_type": "stream",
     "text": [
      "100\n"
     ]
    }
   ],
   "source": [
    "print(x(90))"
   ]
  },
  {
   "cell_type": "code",
   "execution_count": 12,
   "id": "157f8e64-b2c1-49d6-ad04-c9bc21abb87d",
   "metadata": {},
   "outputs": [
    {
     "name": "stdout",
     "output_type": "stream",
     "text": [
      "[3, 4]\n"
     ]
    }
   ],
   "source": [
    "#Method 04 for Intersection of lists\n",
    "intersection2 = list(filter(lambda x: x in f,g))\n",
    "print(intersection2)"
   ]
  }
 ],
 "metadata": {
  "kernelspec": {
   "display_name": "Python 3 (ipykernel)",
   "language": "python",
   "name": "python3"
  },
  "language_info": {
   "codemirror_mode": {
    "name": "ipython",
    "version": 3
   },
   "file_extension": ".py",
   "mimetype": "text/x-python",
   "name": "python",
   "nbconvert_exporter": "python",
   "pygments_lexer": "ipython3",
   "version": "3.12.2"
  }
 },
 "nbformat": 4,
 "nbformat_minor": 5
}
