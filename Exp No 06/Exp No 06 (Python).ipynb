{
 "cells": [
  {
   "cell_type": "code",
   "execution_count": 1,
   "id": "ec613c32-7005-4883-ada6-53d1b7293bfc",
   "metadata": {},
   "outputs": [
    {
     "data": {
      "text/plain": [
       "'Program to check if a substring is present in a given string or not'"
      ]
     },
     "execution_count": 1,
     "metadata": {},
     "output_type": "execute_result"
    }
   ],
   "source": [
    "\"\"\"Program to check if a substring is present in a given string or not\"\"\""
   ]
  },
  {
   "cell_type": "code",
   "execution_count": 2,
   "id": "9c87c2c4-6685-4d8a-bdeb-47d5e961916b",
   "metadata": {},
   "outputs": [
    {
     "data": {
      "text/plain": [
       "'Method 01'"
      ]
     },
     "execution_count": 2,
     "metadata": {},
     "output_type": "execute_result"
    }
   ],
   "source": [
    "\"\"\"Method 01\"\"\""
   ]
  },
  {
   "cell_type": "code",
   "execution_count": 3,
   "id": "1dcdae43-2fea-47da-bdde-199b01dd1432",
   "metadata": {},
   "outputs": [
    {
     "name": "stdin",
     "output_type": "stream",
     "text": [
      "Enter the string:-  the cat sat on the mat and then the cat jumped off the mat\n",
      "Enter the substring:-  jumped off\n"
     ]
    }
   ],
   "source": [
    "string = input(\"Enter the string:- \")\n",
    "substring = input(\"Enter the substring:- \")"
   ]
  },
  {
   "cell_type": "code",
   "execution_count": 4,
   "id": "622757d0-db4f-44d1-92f9-132abe8559d8",
   "metadata": {},
   "outputs": [],
   "source": [
    "def find_substring(string, substring):\n",
    "    presence = False\n",
    "    for i in range(len(string) - len(substring) + 1):\n",
    "        if string[i:i + len(substring)] == substring:\n",
    "            presence = True\n",
    "            break\n",
    "    if (presence == True):\n",
    "        print(\"Substring is Present\")\n",
    "    else:\n",
    "        print(\"Substring is not Present\")"
   ]
  },
  {
   "cell_type": "code",
   "execution_count": 5,
   "id": "5ad75c02-2b99-463a-bb8d-009a94aa8aad",
   "metadata": {},
   "outputs": [
    {
     "name": "stdout",
     "output_type": "stream",
     "text": [
      "Substring is Present\n"
     ]
    }
   ],
   "source": [
    "find_substring(string, substring)"
   ]
  },
  {
   "cell_type": "code",
   "execution_count": null,
   "id": "18fd1383-b392-4dd4-8efb-71c38c194191",
   "metadata": {},
   "outputs": [],
   "source": []
  },
  {
   "cell_type": "code",
   "execution_count": 6,
   "id": "dc130285-7e89-446d-9dc1-9ccd9a9af8e4",
   "metadata": {},
   "outputs": [
    {
     "data": {
      "text/plain": [
       "'Method 02'"
      ]
     },
     "execution_count": 6,
     "metadata": {},
     "output_type": "execute_result"
    }
   ],
   "source": [
    "\"\"\"Method 02\"\"\""
   ]
  },
  {
   "cell_type": "code",
   "execution_count": 7,
   "id": "8ff153a0-bb6e-4b5d-ac9a-b333d900a59e",
   "metadata": {},
   "outputs": [],
   "source": [
    "def check_substring(string, substring):\n",
    "    if substring in string:\n",
    "        print(\"Substring is Present\")\n",
    "    else:\n",
    "        print(\"Substring is not Present\")    "
   ]
  },
  {
   "cell_type": "code",
   "execution_count": 8,
   "id": "f1e86429-92ad-45b0-a7db-c7e2e907f454",
   "metadata": {},
   "outputs": [
    {
     "name": "stdin",
     "output_type": "stream",
     "text": [
      "Enter the string:-  the cat sat on the mat and then the cat jumped off the mat\n",
      "Enter the substring:-  sat on the mat\n"
     ]
    }
   ],
   "source": [
    "string = input(\"Enter the string:- \")\n",
    "substring = input(\"Enter the substring:- \")"
   ]
  },
  {
   "cell_type": "code",
   "execution_count": 9,
   "id": "2b13276b-c691-4d5d-8005-6b1e55eb9d98",
   "metadata": {},
   "outputs": [
    {
     "name": "stdout",
     "output_type": "stream",
     "text": [
      "Substring is Present\n"
     ]
    }
   ],
   "source": [
    "check_substring(string, substring)"
   ]
  },
  {
   "cell_type": "code",
   "execution_count": null,
   "id": "37c57f78-1db1-413b-b92f-a10d4ce6b0fa",
   "metadata": {},
   "outputs": [],
   "source": []
  }
 ],
 "metadata": {
  "kernelspec": {
   "display_name": "Python 3 (ipykernel)",
   "language": "python",
   "name": "python3"
  },
  "language_info": {
   "codemirror_mode": {
    "name": "ipython",
    "version": 3
   },
   "file_extension": ".py",
   "mimetype": "text/x-python",
   "name": "python",
   "nbconvert_exporter": "python",
   "pygments_lexer": "ipython3",
   "version": "3.10.12"
  }
 },
 "nbformat": 4,
 "nbformat_minor": 5
}
