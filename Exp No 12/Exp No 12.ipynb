{
 "cells": [
  {
   "cell_type": "code",
   "execution_count": 10,
   "id": "e866c1d0-cf7d-4528-bb22-c2576fbedfa6",
   "metadata": {},
   "outputs": [
    {
     "name": "stdout",
     "output_type": "stream",
     "text": [
      "nutan college of engineering and research\n",
      "\n"
     ]
    }
   ],
   "source": [
    "try:\n",
    "    with open(\"College.txt\", \"r\") as file:\n",
    "        content = file.read()\n",
    "        print(content)\n",
    "\n",
    "except FileNotFoundError:\n",
    "    print(f\"Error: File '{filename}' not found.\")\n"
   ]
  },
  {
   "cell_type": "code",
   "execution_count": 11,
   "id": "e13cd608-500c-40b7-b263-01d19d393a80",
   "metadata": {},
   "outputs": [],
   "source": [
    "capitalized_content = content.title()"
   ]
  },
  {
   "cell_type": "code",
   "execution_count": 12,
   "id": "fbbfd17e-5baa-4efa-a48c-0373e90dcd0c",
   "metadata": {},
   "outputs": [
    {
     "name": "stdout",
     "output_type": "stream",
     "text": [
      "Nutan College Of Engineering And Research\n",
      "\n"
     ]
    }
   ],
   "source": [
    "print(capitalized_content)"
   ]
  },
  {
   "cell_type": "code",
   "execution_count": 13,
   "id": "9a019a25-a5ac-4dbe-a276-0ba84abbad5b",
   "metadata": {},
   "outputs": [],
   "source": [
    "with open(\"College.txt\", \"w\") as file:\n",
    "    file.write(capitalized_content)"
   ]
  },
  {
   "cell_type": "code",
   "execution_count": 14,
   "id": "843e7830-7c50-4ff9-96fa-5cc301de55c0",
   "metadata": {},
   "outputs": [
    {
     "name": "stdout",
     "output_type": "stream",
     "text": [
      "Nutan College Of Engineering And Research\n",
      "\n"
     ]
    }
   ],
   "source": [
    "with open(\"College.txt\", \"r\") as file:\n",
    "    content02 = file.read()\n",
    "    print(content02)"
   ]
  }
 ],
 "metadata": {
  "kernelspec": {
   "display_name": "Python 3 (ipykernel)",
   "language": "python",
   "name": "python3"
  },
  "language_info": {
   "codemirror_mode": {
    "name": "ipython",
    "version": 3
   },
   "file_extension": ".py",
   "mimetype": "text/x-python",
   "name": "python",
   "nbconvert_exporter": "python",
   "pygments_lexer": "ipython3",
   "version": "3.10.12"
  }
 },
 "nbformat": 4,
 "nbformat_minor": 5
}
