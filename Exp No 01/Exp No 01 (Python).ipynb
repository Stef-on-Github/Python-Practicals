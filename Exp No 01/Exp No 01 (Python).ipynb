{
 "cells": [
  {
   "cell_type": "code",
   "execution_count": 1,
   "id": "29f8cbb4-2828-425a-91e6-2d83b7f8ce83",
   "metadata": {},
   "outputs": [],
   "source": [
    "import math\n",
    "\n",
    "def square_area(side): # Area of Square\n",
    "    return side ** 2\n",
    "\n",
    "def rectangle_area(length, width): # Area of Rectangle\n",
    "    return length * width\n",
    "\n",
    "def circle_area(radius): # Area of Circle\n",
    "    return math.pi * radius ** 2\n",
    "\n",
    "def triangle_area1(base, height): # Area of Triangle 01\n",
    "    return 0.5 * base * height \n",
    "\n",
    "def triangle_area2(a,b,c): # Area of Triangle 02\n",
    "    s = float((a + b + c) / 2)\n",
    "    return (s * (s - a) * (s - b) * (s - c)) ** 0.5"
   ]
  },
  {
   "cell_type": "code",
   "execution_count": 2,
   "id": "017d53ae-1ef6-40da-ba38-07767eeee104",
   "metadata": {},
   "outputs": [
    {
     "name": "stdout",
     "output_type": "stream",
     "text": [
      "Select the shape for which you want to calculate the area:\n",
      "1. Square\n",
      "2. Rectangle\n",
      "3. Circle\n",
      "4. Triangle (if base and height are given)\n",
      "5. Triangle (if three sides of triangle are given)\n"
     ]
    },
    {
     "name": "stdin",
     "output_type": "stream",
     "text": [
      "Enter your choice (1/2/3/4/5):  1\n",
      "Enter the length of a side of the square:  4\n"
     ]
    },
    {
     "name": "stdout",
     "output_type": "stream",
     "text": [
      "Area of the square: 16.0\n"
     ]
    },
    {
     "name": "stdin",
     "output_type": "stream",
     "text": [
      "Do you want to continue? (yes/no):  yes\n"
     ]
    },
    {
     "name": "stdout",
     "output_type": "stream",
     "text": [
      "Select the shape for which you want to calculate the area:\n",
      "1. Square\n",
      "2. Rectangle\n",
      "3. Circle\n",
      "4. Triangle (if base and height are given)\n",
      "5. Triangle (if three sides of triangle are given)\n"
     ]
    },
    {
     "name": "stdin",
     "output_type": "stream",
     "text": [
      "Enter your choice (1/2/3/4/5):  2\n",
      "Enter the length of the rectangle:  5\n",
      "Enter the width of the rectangle:  6\n"
     ]
    },
    {
     "name": "stdout",
     "output_type": "stream",
     "text": [
      "Area of the rectangle: 30.0\n"
     ]
    },
    {
     "name": "stdin",
     "output_type": "stream",
     "text": [
      "Do you want to continue? (yes/no):  yes\n"
     ]
    },
    {
     "name": "stdout",
     "output_type": "stream",
     "text": [
      "Select the shape for which you want to calculate the area:\n",
      "1. Square\n",
      "2. Rectangle\n",
      "3. Circle\n",
      "4. Triangle (if base and height are given)\n",
      "5. Triangle (if three sides of triangle are given)\n"
     ]
    },
    {
     "name": "stdin",
     "output_type": "stream",
     "text": [
      "Enter your choice (1/2/3/4/5):  7\n"
     ]
    },
    {
     "name": "stdout",
     "output_type": "stream",
     "text": [
      "Invalid choice!\n"
     ]
    },
    {
     "name": "stdin",
     "output_type": "stream",
     "text": [
      "Do you want to continue? (yes/no):  yes\n"
     ]
    },
    {
     "name": "stdout",
     "output_type": "stream",
     "text": [
      "Select the shape for which you want to calculate the area:\n",
      "1. Square\n",
      "2. Rectangle\n",
      "3. Circle\n",
      "4. Triangle (if base and height are given)\n",
      "5. Triangle (if three sides of triangle are given)\n"
     ]
    },
    {
     "name": "stdin",
     "output_type": "stream",
     "text": [
      "Enter your choice (1/2/3/4/5):  3\n",
      "Enter the radius of the circle:  6\n"
     ]
    },
    {
     "name": "stdout",
     "output_type": "stream",
     "text": [
      "Area of the circle: 113.09733552923255\n"
     ]
    },
    {
     "name": "stdin",
     "output_type": "stream",
     "text": [
      "Do you want to continue? (yes/no):  yes\n"
     ]
    },
    {
     "name": "stdout",
     "output_type": "stream",
     "text": [
      "Select the shape for which you want to calculate the area:\n",
      "1. Square\n",
      "2. Rectangle\n",
      "3. Circle\n",
      "4. Triangle (if base and height are given)\n",
      "5. Triangle (if three sides of triangle are given)\n"
     ]
    },
    {
     "name": "stdin",
     "output_type": "stream",
     "text": [
      "Enter your choice (1/2/3/4/5):  4\n",
      "Enter the base of the triangle:  45\n",
      "Enter the height of the triangle:  85\n"
     ]
    },
    {
     "name": "stdout",
     "output_type": "stream",
     "text": [
      "Area of the triangle: 1912.5\n"
     ]
    },
    {
     "name": "stdin",
     "output_type": "stream",
     "text": [
      "Do you want to continue? (yes/no):  yes\n"
     ]
    },
    {
     "name": "stdout",
     "output_type": "stream",
     "text": [
      "Select the shape for which you want to calculate the area:\n",
      "1. Square\n",
      "2. Rectangle\n",
      "3. Circle\n",
      "4. Triangle (if base and height are given)\n",
      "5. Triangle (if three sides of triangle are given)\n"
     ]
    },
    {
     "name": "stdin",
     "output_type": "stream",
     "text": [
      "Enter your choice (1/2/3/4/5):  5\n",
      "Enter the first side of the triangle:  5\n",
      "Enter the second side of the triangle:  8\n",
      "Enter the third side of the triangle:  12\n"
     ]
    },
    {
     "name": "stdout",
     "output_type": "stream",
     "text": [
      "Area of the triangle: 14.523687548277813\n"
     ]
    },
    {
     "name": "stdin",
     "output_type": "stream",
     "text": [
      "Do you want to continue? (yes/no):  no\n"
     ]
    }
   ],
   "source": [
    "while True:\n",
    "    print(\"Select the shape for which you want to calculate the area:\")\n",
    "    print(\"1. Square\")\n",
    "    print(\"2. Rectangle\")\n",
    "    print(\"3. Circle\")\n",
    "    print(\"4. Triangle (if base and height are given)\")\n",
    "    print(\"5. Triangle (if three sides of triangle are given)\")\n",
    "\n",
    "    choice = int(input(\"Enter your choice (1/2/3/4/5): \"))\n",
    "\n",
    "    if choice == 1:\n",
    "        side = float(input(\"Enter the length of a side of the square: \"))\n",
    "        print(\"Area of the square:\", square_area(side))\n",
    "    elif choice == 2:\n",
    "        length = float(input(\"Enter the length of the rectangle: \"))\n",
    "        width = float(input(\"Enter the width of the rectangle: \"))\n",
    "        print(\"Area of the rectangle:\", rectangle_area(length, width))\n",
    "    elif choice == 3:\n",
    "        radius = float(input(\"Enter the radius of the circle: \"))\n",
    "        print(\"Area of the circle:\", circle_area(radius))\n",
    "    elif choice == 4:\n",
    "        base = float(input(\"Enter the base of the triangle: \"))\n",
    "        height = float(input(\"Enter the height of the triangle: \"))\n",
    "        print(\"Area of the triangle:\", triangle_area1(base, height))\n",
    "    elif choice == 5:\n",
    "        a = float(input(\"Enter the first side of the triangle: \"))\n",
    "        b = float(input(\"Enter the second side of the triangle: \"))\n",
    "        c = float(input(\"Enter the third side of the triangle: \"))\n",
    "        print(\"Area of the triangle:\", triangle_area2(a, b, c))\n",
    "    else:\n",
    "        print(\"Invalid choice!\")\n",
    "\n",
    "    cont = input(\"Do you want to continue? (yes/no): \")\n",
    "    if cont.lower() != 'yes':\n",
    "        break"
   ]
  },
  {
   "cell_type": "code",
   "execution_count": null,
   "id": "11d60ed9-8e85-4e22-aa02-d03a5440a5a3",
   "metadata": {},
   "outputs": [],
   "source": []
  }
 ],
 "metadata": {
  "kernelspec": {
   "display_name": "Python 3 (ipykernel)",
   "language": "python",
   "name": "python3"
  },
  "language_info": {
   "codemirror_mode": {
    "name": "ipython",
    "version": 3
   },
   "file_extension": ".py",
   "mimetype": "text/x-python",
   "name": "python",
   "nbconvert_exporter": "python",
   "pygments_lexer": "ipython3",
   "version": "3.12.2"
  }
 },
 "nbformat": 4,
 "nbformat_minor": 5
}
