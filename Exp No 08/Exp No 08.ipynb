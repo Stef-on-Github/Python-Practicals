{
 "cells": [
  {
   "cell_type": "code",
   "execution_count": 1,
   "id": "ffd0e5b3-5416-473d-9f16-a6a8c336681e",
   "metadata": {},
   "outputs": [
    {
     "name": "stdin",
     "output_type": "stream",
     "text": [
      "Enter the sentence :-  the cat sat on the mat and then the cat jumped off the mat\n"
     ]
    }
   ],
   "source": [
    "sent1 = input(\"Enter the sentence :- \")"
   ]
  },
  {
   "cell_type": "code",
   "execution_count": 2,
   "id": "8c8670e7-94e3-44e0-a4b5-1fe49c747b06",
   "metadata": {},
   "outputs": [],
   "source": [
    "list1 = sent1.split()\n",
    "dict1 = dict()"
   ]
  },
  {
   "cell_type": "code",
   "execution_count": 3,
   "id": "5f9bda51-70c5-4a8d-b545-2dcafad4fd16",
   "metadata": {},
   "outputs": [
    {
     "name": "stdout",
     "output_type": "stream",
     "text": [
      "['the', 'cat', 'sat', 'on', 'the', 'mat', 'and', 'then', 'the', 'cat', 'jumped', 'off', 'the', 'mat']\n"
     ]
    }
   ],
   "source": [
    "print(list1)"
   ]
  },
  {
   "cell_type": "code",
   "execution_count": 4,
   "id": "8817eb47-f01e-4635-be91-1b7b6a86b357",
   "metadata": {},
   "outputs": [],
   "source": [
    "for i in list1:\n",
    "    if i in dict1:\n",
    "        dict1[i] = int(dict1[i]) + 1\n",
    "    else:\n",
    "        dict1[i] = 1"
   ]
  },
  {
   "cell_type": "code",
   "execution_count": 5,
   "id": "d4e2a6fb-641a-453f-a749-315ea5df3b43",
   "metadata": {},
   "outputs": [
    {
     "name": "stdout",
     "output_type": "stream",
     "text": [
      "{'the': 4, 'cat': 2, 'sat': 1, 'on': 1, 'mat': 2, 'and': 1, 'then': 1, 'jumped': 1, 'off': 1}\n"
     ]
    }
   ],
   "source": [
    "print(dict1)"
   ]
  }
 ],
 "metadata": {
  "kernelspec": {
   "display_name": "Python 3 (ipykernel)",
   "language": "python",
   "name": "python3"
  },
  "language_info": {
   "codemirror_mode": {
    "name": "ipython",
    "version": 3
   },
   "file_extension": ".py",
   "mimetype": "text/x-python",
   "name": "python",
   "nbconvert_exporter": "python",
   "pygments_lexer": "ipython3",
   "version": "3.10.12"
  }
 },
 "nbformat": 4,
 "nbformat_minor": 5
}
