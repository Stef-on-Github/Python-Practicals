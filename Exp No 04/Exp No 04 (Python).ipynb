{
 "cells": [
  {
   "cell_type": "code",
   "execution_count": 1,
   "id": "5493edcb-cfa0-4020-a5d7-d70da019ba11",
   "metadata": {},
   "outputs": [
    {
     "data": {
      "text/plain": [
       "' AIM :- Write a program to remove the ith occurence of the given word where the word repeats '"
      ]
     },
     "execution_count": 1,
     "metadata": {},
     "output_type": "execute_result"
    }
   ],
   "source": [
    "\"\"\" AIM :- Write a program to remove the ith occurence of the given word where the word repeats \"\"\""
   ]
  },
  {
   "cell_type": "code",
   "execution_count": 2,
   "id": "922016ae-c70b-46aa-b9d9-b0d4447f65bb",
   "metadata": {},
   "outputs": [
    {
     "name": "stdout",
     "output_type": "stream",
     "text": [
      "Enter elements of the list separated by spaces:\n"
     ]
    },
    {
     "name": "stdin",
     "output_type": "stream",
     "text": [
      " pranav prathamesh stephen shantanu nikhil stephen\n"
     ]
    },
    {
     "name": "stdout",
     "output_type": "stream",
     "text": [
      "['pranav', 'prathamesh', 'stephen', 'shantanu', 'nikhil', 'stephen']\n"
     ]
    }
   ],
   "source": [
    "print(\"Enter elements of the list separated by spaces:\")\n",
    "list1_input = input().split()\n",
    "\n",
    "list1 = []\n",
    "for item in list1_input:\n",
    "    list1.append(item)\n",
    "\n",
    "print(list1)"
   ]
  },
  {
   "cell_type": "code",
   "execution_count": 3,
   "id": "8b51ea1c-8c7c-419f-80b6-f50aeaa336a9",
   "metadata": {},
   "outputs": [
    {
     "name": "stdin",
     "output_type": "stream",
     "text": [
      "Enter the element to be removed:-  stephen\n",
      "Enter the occurence to be removed:-  2\n"
     ]
    }
   ],
   "source": [
    "item = input(\"Enter the element to be removed:- \")\n",
    "occurence = int(input(\"Enter the occurence to be removed:- \"))\n",
    "count = 0\n",
    "list2 = list()\n",
    "list3 = list()            "
   ]
  },
  {
   "cell_type": "code",
   "execution_count": 5,
   "id": "46086789-4dc2-4271-8810-c065254d9411",
   "metadata": {},
   "outputs": [
    {
     "name": "stdout",
     "output_type": "stream",
     "text": [
      "Items removed are  ['stephen']\n",
      "List after deletion :-   ['pranav', 'prathamesh', 'stephen', 'shantanu', 'nikhil']\n"
     ]
    }
   ],
   "source": [
    "# Method 01\n",
    "\n",
    "for i in list1:\n",
    "    if i == item:\n",
    "        count = count + 1\n",
    "        if (count == occurence):\n",
    "            list2.append(i)\n",
    "        else :\n",
    "            list3.append(i)\n",
    "    else:\n",
    "        list3.append(i)\n",
    "if (count != 0):        \n",
    "    print(\"Items removed are \",list2)\n",
    "    print(\"List after deletion :-  \",list3)\n",
    "else:\n",
    "    print(\"Element entered is not available !!\")"
   ]
  }
 ],
 "metadata": {
  "kernelspec": {
   "display_name": "Python 3 (ipykernel)",
   "language": "python",
   "name": "python3"
  },
  "language_info": {
   "codemirror_mode": {
    "name": "ipython",
    "version": 3
   },
   "file_extension": ".py",
   "mimetype": "text/x-python",
   "name": "python",
   "nbconvert_exporter": "python",
   "pygments_lexer": "ipython3",
   "version": "3.10.12"
  }
 },
 "nbformat": 4,
 "nbformat_minor": 5
}
