{
 "cells": [
  {
   "cell_type": "code",
   "execution_count": 1,
   "id": "a52b0f74-1afe-4250-a8d3-3d8d67258c08",
   "metadata": {},
   "outputs": [],
   "source": [
    "# Method 01 using Logic\n",
    "def find_union(list1, list2):\n",
    "    union = []\n",
    "    \n",
    "    # Add elements from list1 to union\n",
    "    for item in list1:\n",
    "        if item not in union:\n",
    "            union.append(item)\n",
    "    \n",
    "    # Add elements from list2 to union\n",
    "    for item in list2:\n",
    "        if item not in union:\n",
    "            union.append(item)\n",
    "    \n",
    "    return union"
   ]
  },
  {
   "cell_type": "code",
   "execution_count": 2,
   "id": "f0582132-463d-4b82-9261-7fa7fe8c8359",
   "metadata": {},
   "outputs": [
    {
     "name": "stdout",
     "output_type": "stream",
     "text": [
      "Enter elements of the first list separated by spaces:\n"
     ]
    },
    {
     "name": "stdin",
     "output_type": "stream",
     "text": [
      " 4 5 8 6 \n"
     ]
    },
    {
     "name": "stdout",
     "output_type": "stream",
     "text": [
      "Enter elements of the second list separated by spaces:\n"
     ]
    },
    {
     "name": "stdin",
     "output_type": "stream",
     "text": [
      " 8 5 9 6\n"
     ]
    },
    {
     "name": "stdout",
     "output_type": "stream",
     "text": [
      "First list: [4, 5, 8, 6]\n",
      "Second list: [8, 5, 9, 6]\n"
     ]
    }
   ],
   "source": [
    "# Input for the first list\n",
    "print(\"Enter elements of the first list separated by spaces:\")\n",
    "list1_input = input().split()\n",
    "\n",
    "list1 = []\n",
    "for item in list1_input:\n",
    "    list1.append(int(item))\n",
    "\n",
    "# Input for the second list\n",
    "print(\"Enter elements of the second list separated by spaces:\")\n",
    "list2_input = input().split()\n",
    "\n",
    "list2 = []\n",
    "for item in list2_input:\n",
    "    list2.append(int(item))\n",
    "\n",
    "print(\"First list:\", list1)\n",
    "print(\"Second list:\", list2)\n"
   ]
  },
  {
   "cell_type": "code",
   "execution_count": 3,
   "id": "6dbf6ef2-ecaa-4403-9387-23fc402af750",
   "metadata": {},
   "outputs": [
    {
     "name": "stdout",
     "output_type": "stream",
     "text": [
      "[4, 5, 8, 6, 9]\n"
     ]
    }
   ],
   "source": [
    "#Method 01 Using User Defined Function\n",
    "print(find_union(list1, list2))"
   ]
  },
  {
   "cell_type": "code",
   "execution_count": 4,
   "id": "4603fc91-9fe2-414b-962d-0b86c63c8b15",
   "metadata": {},
   "outputs": [
    {
     "name": "stdout",
     "output_type": "stream",
     "text": [
      "[4, 5, 6, 8, 9]\n"
     ]
    }
   ],
   "source": [
    "#Method 02 Using the + operator and set()\n",
    "union = list(set(list1 + list2))\n",
    "print(union)"
   ]
  },
  {
   "cell_type": "code",
   "execution_count": 5,
   "id": "ef49ba8d-9ec0-41ed-9a98-c46fc5d200f7",
   "metadata": {},
   "outputs": [
    {
     "name": "stdout",
     "output_type": "stream",
     "text": [
      "[4, 5, 6, 8, 9]\n"
     ]
    }
   ],
   "source": [
    "#Method 03 Using the extend() method\n",
    "list1.extend(list2)\n",
    "union = list(set(list1))\n",
    "print(union)"
   ]
  },
  {
   "cell_type": "code",
   "execution_count": 6,
   "id": "33753c5b-fa0c-4c77-a21a-a4936214119c",
   "metadata": {},
   "outputs": [
    {
     "name": "stdout",
     "output_type": "stream",
     "text": [
      "[4, 5, 6, 8, 9]\n"
     ]
    }
   ],
   "source": [
    "#Method 04 Using the union() method of sets\n",
    "union = list(set(list1).union(set(list2)))\n",
    "print(union)"
   ]
  },
  {
   "cell_type": "code",
   "execution_count": 7,
   "id": "a3b1d07e-dac2-45b5-b5ea-1ece7edfacdf",
   "metadata": {},
   "outputs": [
    {
     "name": "stdout",
     "output_type": "stream",
     "text": [
      "[4, 5, 6, 8, 9]\n"
     ]
    }
   ],
   "source": [
    "#Method 05 Using the | operator between sets\n",
    "union = list(set(list1) | set(list2))\n",
    "print(union)"
   ]
  },
  {
   "cell_type": "code",
   "execution_count": null,
   "id": "77b4eae0-c16c-4f57-89d0-b6d1d7ca6a76",
   "metadata": {},
   "outputs": [],
   "source": []
  }
 ],
 "metadata": {
  "kernelspec": {
   "display_name": "Python 3 (ipykernel)",
   "language": "python",
   "name": "python3"
  },
  "language_info": {
   "codemirror_mode": {
    "name": "ipython",
    "version": 3
   },
   "file_extension": ".py",
   "mimetype": "text/x-python",
   "name": "python",
   "nbconvert_exporter": "python",
   "pygments_lexer": "ipython3",
   "version": "3.12.2"
  }
 },
 "nbformat": 4,
 "nbformat_minor": 5
}
